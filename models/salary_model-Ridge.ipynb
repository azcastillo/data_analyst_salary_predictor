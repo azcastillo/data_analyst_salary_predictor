{
 "cells": [
  {
   "cell_type": "markdown",
   "metadata": {},
   "source": [
    "# Ridge Regression Model "
   ]
  },
  {
   "cell_type": "code",
   "execution_count": 1,
   "metadata": {},
   "outputs": [],
   "source": [
    "import pandas as pd \n",
    "import numpy as np\n",
    "import matplotlib.pyplot as plt \n",
    "import seaborn as sns \n",
    "\n",
    "from sklearn.preprocessing import StandardScaler\n",
    "from sklearn.model_selection import cross_val_score\n",
    "from sklearn.pipeline import Pipeline\n",
    "from sklearn.model_selection import train_test_split, GridSearchCV\n",
    "from sklearn.linear_model import Lasso, Ridge, ElasticNet\n",
    "from sklearn.metrics import mean_absolute_error"
   ]
  },
  {
   "cell_type": "code",
   "execution_count": 2,
   "metadata": {},
   "outputs": [
    {
     "data": {
      "text/html": [
       "<div>\n",
       "<style scoped>\n",
       "    .dataframe tbody tr th:only-of-type {\n",
       "        vertical-align: middle;\n",
       "    }\n",
       "\n",
       "    .dataframe tbody tr th {\n",
       "        vertical-align: top;\n",
       "    }\n",
       "\n",
       "    .dataframe thead th {\n",
       "        text-align: right;\n",
       "    }\n",
       "</style>\n",
       "<table border=\"1\" class=\"dataframe\">\n",
       "  <thead>\n",
       "    <tr style=\"text-align: right;\">\n",
       "      <th></th>\n",
       "      <th>Job Title</th>\n",
       "      <th>Salary Estimate</th>\n",
       "      <th>Job Description</th>\n",
       "      <th>Rating</th>\n",
       "      <th>Company Name</th>\n",
       "      <th>Location</th>\n",
       "      <th>Headquarters</th>\n",
       "      <th>Size</th>\n",
       "      <th>Founded</th>\n",
       "      <th>Type of ownership</th>\n",
       "      <th>Industry</th>\n",
       "      <th>Sector</th>\n",
       "      <th>Revenue</th>\n",
       "      <th>Competitors</th>\n",
       "      <th>Easy Apply</th>\n",
       "      <th>simplified_title</th>\n",
       "      <th>seniority</th>\n",
       "      <th>salary_range</th>\n",
       "      <th>min_salary</th>\n",
       "      <th>max_salary</th>\n",
       "      <th>avg_salary</th>\n",
       "      <th>company_age</th>\n",
       "      <th>company_name</th>\n",
       "      <th>state</th>\n",
       "      <th>city</th>\n",
       "      <th>headquarters_state</th>\n",
       "      <th>same_location</th>\n",
       "      <th>size_range</th>\n",
       "      <th>min_size</th>\n",
       "      <th>max_size</th>\n",
       "      <th>avg_size</th>\n",
       "      <th>python</th>\n",
       "      <th>sql</th>\n",
       "      <th>excel</th>\n",
       "      <th>R</th>\n",
       "      <th>deep_learning</th>\n",
       "      <th>PhD</th>\n",
       "      <th>bachelor</th>\n",
       "      <th>masters</th>\n",
       "      <th>power_bi</th>\n",
       "      <th>tableau</th>\n",
       "      <th>prob_solver</th>\n",
       "      <th>critical_thinker</th>\n",
       "    </tr>\n",
       "  </thead>\n",
       "  <tbody>\n",
       "    <tr>\n",
       "      <th>0</th>\n",
       "      <td>Data Analyst, Center on Immigration and Justic...</td>\n",
       "      <td>$37K-$66K (Glassdoor est.)</td>\n",
       "      <td>Are you eager to roll up your sleeves and harn...</td>\n",
       "      <td>3.2</td>\n",
       "      <td>Vera Institute of Justice\\n3.2</td>\n",
       "      <td>New York, NY</td>\n",
       "      <td>New York, NY</td>\n",
       "      <td>201 to 500 employees</td>\n",
       "      <td>1961</td>\n",
       "      <td>Nonprofit Organization</td>\n",
       "      <td>Social Assistance</td>\n",
       "      <td>Non-Profit</td>\n",
       "      <td>$100 to $500 million (USD)</td>\n",
       "      <td>-1</td>\n",
       "      <td>True</td>\n",
       "      <td>data analyst</td>\n",
       "      <td>na</td>\n",
       "      <td>$37-$66</td>\n",
       "      <td>37</td>\n",
       "      <td>66</td>\n",
       "      <td>51.5</td>\n",
       "      <td>60</td>\n",
       "      <td>Vera Institute of Justice</td>\n",
       "      <td>NY</td>\n",
       "      <td>New York</td>\n",
       "      <td>NY</td>\n",
       "      <td>1</td>\n",
       "      <td>201 to 500</td>\n",
       "      <td>201</td>\n",
       "      <td>500</td>\n",
       "      <td>350.5</td>\n",
       "      <td>1</td>\n",
       "      <td>1</td>\n",
       "      <td>0</td>\n",
       "      <td>1</td>\n",
       "      <td>0</td>\n",
       "      <td>0</td>\n",
       "      <td>1</td>\n",
       "      <td>0</td>\n",
       "      <td>0</td>\n",
       "      <td>0</td>\n",
       "      <td>0</td>\n",
       "      <td>0</td>\n",
       "    </tr>\n",
       "    <tr>\n",
       "      <th>1</th>\n",
       "      <td>Quality Data Analyst</td>\n",
       "      <td>$37K-$66K (Glassdoor est.)</td>\n",
       "      <td>Overview\\n\\nProvides analytical and technical ...</td>\n",
       "      <td>3.8</td>\n",
       "      <td>Visiting Nurse Service of New York\\n3.8</td>\n",
       "      <td>New York, NY</td>\n",
       "      <td>New York, NY</td>\n",
       "      <td>10000+ employees</td>\n",
       "      <td>1893</td>\n",
       "      <td>Nonprofit Organization</td>\n",
       "      <td>Health Care Services &amp; Hospitals</td>\n",
       "      <td>Health Care</td>\n",
       "      <td>$2 to $5 billion (USD)</td>\n",
       "      <td>-1</td>\n",
       "      <td>-1</td>\n",
       "      <td>data analyst</td>\n",
       "      <td>na</td>\n",
       "      <td>$37-$66</td>\n",
       "      <td>37</td>\n",
       "      <td>66</td>\n",
       "      <td>51.5</td>\n",
       "      <td>128</td>\n",
       "      <td>Visiting Nurse Service of New York</td>\n",
       "      <td>NY</td>\n",
       "      <td>New York</td>\n",
       "      <td>NY</td>\n",
       "      <td>1</td>\n",
       "      <td>10000+</td>\n",
       "      <td>10000</td>\n",
       "      <td>30000</td>\n",
       "      <td>20000.0</td>\n",
       "      <td>0</td>\n",
       "      <td>1</td>\n",
       "      <td>1</td>\n",
       "      <td>1</td>\n",
       "      <td>0</td>\n",
       "      <td>0</td>\n",
       "      <td>1</td>\n",
       "      <td>1</td>\n",
       "      <td>0</td>\n",
       "      <td>0</td>\n",
       "      <td>0</td>\n",
       "      <td>0</td>\n",
       "    </tr>\n",
       "    <tr>\n",
       "      <th>2</th>\n",
       "      <td>Senior Data Analyst, Insights &amp; Analytics Team...</td>\n",
       "      <td>$37K-$66K (Glassdoor est.)</td>\n",
       "      <td>We’re looking for a Senior Data Analyst who ha...</td>\n",
       "      <td>3.4</td>\n",
       "      <td>Squarespace\\n3.4</td>\n",
       "      <td>New York, NY</td>\n",
       "      <td>New York, NY</td>\n",
       "      <td>1001 to 5000 employees</td>\n",
       "      <td>2003</td>\n",
       "      <td>Company - Private</td>\n",
       "      <td>Internet</td>\n",
       "      <td>Information Technology</td>\n",
       "      <td>Unknown / Non-Applicable</td>\n",
       "      <td>GoDaddy</td>\n",
       "      <td>-1</td>\n",
       "      <td>data analyst</td>\n",
       "      <td>senior</td>\n",
       "      <td>$37-$66</td>\n",
       "      <td>37</td>\n",
       "      <td>66</td>\n",
       "      <td>51.5</td>\n",
       "      <td>18</td>\n",
       "      <td>Squarespace</td>\n",
       "      <td>NY</td>\n",
       "      <td>New York</td>\n",
       "      <td>NY</td>\n",
       "      <td>1</td>\n",
       "      <td>1001 to 5000</td>\n",
       "      <td>1001</td>\n",
       "      <td>5000</td>\n",
       "      <td>3000.5</td>\n",
       "      <td>1</td>\n",
       "      <td>1</td>\n",
       "      <td>1</td>\n",
       "      <td>1</td>\n",
       "      <td>0</td>\n",
       "      <td>1</td>\n",
       "      <td>1</td>\n",
       "      <td>0</td>\n",
       "      <td>0</td>\n",
       "      <td>1</td>\n",
       "      <td>0</td>\n",
       "      <td>0</td>\n",
       "    </tr>\n",
       "    <tr>\n",
       "      <th>3</th>\n",
       "      <td>Data Analyst</td>\n",
       "      <td>$37K-$66K (Glassdoor est.)</td>\n",
       "      <td>Requisition NumberRR-0001939\\nRemote:Yes\\nWe c...</td>\n",
       "      <td>4.1</td>\n",
       "      <td>Celerity\\n4.1</td>\n",
       "      <td>New York, NY</td>\n",
       "      <td>McLean, VA</td>\n",
       "      <td>201 to 500 employees</td>\n",
       "      <td>2002</td>\n",
       "      <td>Subsidiary or Business Segment</td>\n",
       "      <td>IT Services</td>\n",
       "      <td>Information Technology</td>\n",
       "      <td>$50 to $100 million (USD)</td>\n",
       "      <td>-1</td>\n",
       "      <td>-1</td>\n",
       "      <td>data analyst</td>\n",
       "      <td>na</td>\n",
       "      <td>$37-$66</td>\n",
       "      <td>37</td>\n",
       "      <td>66</td>\n",
       "      <td>51.5</td>\n",
       "      <td>19</td>\n",
       "      <td>Celerity</td>\n",
       "      <td>NY</td>\n",
       "      <td>New York</td>\n",
       "      <td>VA</td>\n",
       "      <td>0</td>\n",
       "      <td>201 to 500</td>\n",
       "      <td>201</td>\n",
       "      <td>500</td>\n",
       "      <td>350.5</td>\n",
       "      <td>0</td>\n",
       "      <td>1</td>\n",
       "      <td>0</td>\n",
       "      <td>1</td>\n",
       "      <td>0</td>\n",
       "      <td>0</td>\n",
       "      <td>1</td>\n",
       "      <td>0</td>\n",
       "      <td>0</td>\n",
       "      <td>1</td>\n",
       "      <td>0</td>\n",
       "      <td>0</td>\n",
       "    </tr>\n",
       "    <tr>\n",
       "      <th>4</th>\n",
       "      <td>Reporting Data Analyst</td>\n",
       "      <td>$37K-$66K (Glassdoor est.)</td>\n",
       "      <td>ABOUT FANDUEL GROUP\\n\\nFanDuel Group is a worl...</td>\n",
       "      <td>3.9</td>\n",
       "      <td>FanDuel\\n3.9</td>\n",
       "      <td>New York, NY</td>\n",
       "      <td>New York, NY</td>\n",
       "      <td>501 to 1000 employees</td>\n",
       "      <td>2009</td>\n",
       "      <td>Company - Private</td>\n",
       "      <td>Sports &amp; Recreation</td>\n",
       "      <td>Arts, Entertainment &amp; Recreation</td>\n",
       "      <td>$100 to $500 million (USD)</td>\n",
       "      <td>DraftKings</td>\n",
       "      <td>True</td>\n",
       "      <td>data analyst</td>\n",
       "      <td>na</td>\n",
       "      <td>$37-$66</td>\n",
       "      <td>37</td>\n",
       "      <td>66</td>\n",
       "      <td>51.5</td>\n",
       "      <td>12</td>\n",
       "      <td>FanDuel</td>\n",
       "      <td>NY</td>\n",
       "      <td>New York</td>\n",
       "      <td>NY</td>\n",
       "      <td>1</td>\n",
       "      <td>501 to 1000</td>\n",
       "      <td>501</td>\n",
       "      <td>1000</td>\n",
       "      <td>750.5</td>\n",
       "      <td>1</td>\n",
       "      <td>1</td>\n",
       "      <td>1</td>\n",
       "      <td>1</td>\n",
       "      <td>0</td>\n",
       "      <td>0</td>\n",
       "      <td>1</td>\n",
       "      <td>0</td>\n",
       "      <td>0</td>\n",
       "      <td>0</td>\n",
       "      <td>0</td>\n",
       "      <td>0</td>\n",
       "    </tr>\n",
       "  </tbody>\n",
       "</table>\n",
       "</div>"
      ],
      "text/plain": [
       "                                           Job Title  \\\n",
       "0  Data Analyst, Center on Immigration and Justic...   \n",
       "1                               Quality Data Analyst   \n",
       "2  Senior Data Analyst, Insights & Analytics Team...   \n",
       "3                                       Data Analyst   \n",
       "4                             Reporting Data Analyst   \n",
       "\n",
       "              Salary Estimate  \\\n",
       "0  $37K-$66K (Glassdoor est.)   \n",
       "1  $37K-$66K (Glassdoor est.)   \n",
       "2  $37K-$66K (Glassdoor est.)   \n",
       "3  $37K-$66K (Glassdoor est.)   \n",
       "4  $37K-$66K (Glassdoor est.)   \n",
       "\n",
       "                                     Job Description  Rating  \\\n",
       "0  Are you eager to roll up your sleeves and harn...     3.2   \n",
       "1  Overview\\n\\nProvides analytical and technical ...     3.8   \n",
       "2  We’re looking for a Senior Data Analyst who ha...     3.4   \n",
       "3  Requisition NumberRR-0001939\\nRemote:Yes\\nWe c...     4.1   \n",
       "4  ABOUT FANDUEL GROUP\\n\\nFanDuel Group is a worl...     3.9   \n",
       "\n",
       "                              Company Name      Location  Headquarters  \\\n",
       "0           Vera Institute of Justice\\n3.2  New York, NY  New York, NY   \n",
       "1  Visiting Nurse Service of New York\\n3.8  New York, NY  New York, NY   \n",
       "2                         Squarespace\\n3.4  New York, NY  New York, NY   \n",
       "3                            Celerity\\n4.1  New York, NY    McLean, VA   \n",
       "4                             FanDuel\\n3.9  New York, NY  New York, NY   \n",
       "\n",
       "                     Size  Founded               Type of ownership  \\\n",
       "0    201 to 500 employees     1961          Nonprofit Organization   \n",
       "1        10000+ employees     1893          Nonprofit Organization   \n",
       "2  1001 to 5000 employees     2003               Company - Private   \n",
       "3    201 to 500 employees     2002  Subsidiary or Business Segment   \n",
       "4   501 to 1000 employees     2009               Company - Private   \n",
       "\n",
       "                           Industry                            Sector  \\\n",
       "0                 Social Assistance                        Non-Profit   \n",
       "1  Health Care Services & Hospitals                       Health Care   \n",
       "2                          Internet            Information Technology   \n",
       "3                       IT Services            Information Technology   \n",
       "4               Sports & Recreation  Arts, Entertainment & Recreation   \n",
       "\n",
       "                      Revenue Competitors Easy Apply simplified_title  \\\n",
       "0  $100 to $500 million (USD)          -1       True     data analyst   \n",
       "1      $2 to $5 billion (USD)          -1         -1     data analyst   \n",
       "2    Unknown / Non-Applicable     GoDaddy         -1     data analyst   \n",
       "3   $50 to $100 million (USD)          -1         -1     data analyst   \n",
       "4  $100 to $500 million (USD)  DraftKings       True     data analyst   \n",
       "\n",
       "  seniority salary_range  min_salary  max_salary  avg_salary  company_age  \\\n",
       "0        na     $37-$66           37          66        51.5           60   \n",
       "1        na     $37-$66           37          66        51.5          128   \n",
       "2    senior     $37-$66           37          66        51.5           18   \n",
       "3        na     $37-$66           37          66        51.5           19   \n",
       "4        na     $37-$66           37          66        51.5           12   \n",
       "\n",
       "                         company_name state      city headquarters_state  \\\n",
       "0           Vera Institute of Justice    NY  New York                 NY   \n",
       "1  Visiting Nurse Service of New York    NY  New York                 NY   \n",
       "2                         Squarespace    NY  New York                 NY   \n",
       "3                            Celerity    NY  New York                 VA   \n",
       "4                             FanDuel    NY  New York                 NY   \n",
       "\n",
       "   same_location     size_range  min_size  max_size  avg_size  python  sql  \\\n",
       "0              1    201 to 500        201       500     350.5       1    1   \n",
       "1              1        10000+      10000     30000   20000.0       0    1   \n",
       "2              1  1001 to 5000       1001      5000    3000.5       1    1   \n",
       "3              0    201 to 500        201       500     350.5       0    1   \n",
       "4              1   501 to 1000        501      1000     750.5       1    1   \n",
       "\n",
       "   excel  R  deep_learning  PhD  bachelor  masters  power_bi  tableau  \\\n",
       "0      0  1              0    0         1        0         0        0   \n",
       "1      1  1              0    0         1        1         0        0   \n",
       "2      1  1              0    1         1        0         0        1   \n",
       "3      0  1              0    0         1        0         0        1   \n",
       "4      1  1              0    0         1        0         0        0   \n",
       "\n",
       "   prob_solver  critical_thinker  \n",
       "0            0                 0  \n",
       "1            0                 0  \n",
       "2            0                 0  \n",
       "3            0                 0  \n",
       "4            0                 0  "
      ]
     },
     "execution_count": 2,
     "metadata": {},
     "output_type": "execute_result"
    }
   ],
   "source": [
    "df=pd.read_csv('clean_salary_data.csv')\n",
    "pd.set_option('display.max_columns', None)\n",
    "df.head()"
   ]
  },
  {
   "cell_type": "code",
   "execution_count": 3,
   "metadata": {},
   "outputs": [],
   "source": [
    "#Picked variables which are slightly more correlated. Let's see if the ridge regression\n",
    "# can handle this better and give us a more efficient model. \n",
    " \n",
    "\n",
    "#potential features to analyze based on information from the EDA Notebook \n",
    "features=['Rating', 'Type of ownership', 'Sector', 'Revenue', 'simplified_title', 'seniority', 'company_age',\n",
    "       'state', 'same_location', 'python', 'sql', 'excel',\n",
    "       'deep_learning', 'PhD', 'bachelor', 'masters', 'power_bi', 'tableau', 'Founded', 'avg_size', 'avg_salary']\n",
    "\n",
    "#create the data frame needed for the modeling \n",
    "df_inter=df[features]\n",
    "\n",
    "#one hot endode the variables \n",
    "df_dummies=pd.get_dummies(df_inter)\n",
    "\n",
    "#Create the feature matrix, target variable, and train test splits \n",
    "X=df_dummies.drop('avg_salary', axis=1)\n",
    "y=df_dummies.avg_salary\n",
    "\n",
    "X_train, X_val, y_train, y_val=train_test_split(X, y, test_size=0.30, random_state=42)"
   ]
  },
  {
   "cell_type": "code",
   "execution_count": 4,
   "metadata": {},
   "outputs": [],
   "source": [
    "#Ridge Regression: neg_mean_square_root_errors\n",
    "alphas=np.arange(.01,1, .01)\n",
    "mean_square_root_scores=[]\n",
    "\n",
    "for alpha in alphas: \n",
    "    lr=Ridge(alpha=alpha, normalize=True)\n",
    "    score=np.mean(cross_val_score(lr,X_train,y_train,scoring = 'neg_root_mean_squared_error', cv= 5))\n",
    "    mean_square_root_scores.append(score)\n",
    "\n",
    "rmse=list(np.abs(np.array(mean_square_root_scores)))\n",
    "#rmse"
   ]
  },
  {
   "cell_type": "code",
   "execution_count": 5,
   "metadata": {
    "scrolled": false
   },
   "outputs": [],
   "source": [
    "#Ridge Regression: neg_mean_absolute_errors\n",
    "alphas=np.arange(.01,1, .01)\n",
    "mean_absolute_scores=[]\n",
    "\n",
    "for alpha in alphas: \n",
    "    lr=Ridge(alpha=alpha, normalize=True)\n",
    "    score=np.mean(cross_val_score(lr,X_train,y_train,scoring = 'neg_mean_absolute_error', cv= 5))\n",
    "    mean_absolute_scores.append(score)\n",
    "mae=list(np.abs(np.array(mean_absolute_scores)))      "
   ]
  },
  {
   "cell_type": "code",
   "execution_count": 6,
   "metadata": {
    "scrolled": false
   },
   "outputs": [
    {
     "data": {
      "image/png": "[encoded data removed]",
      "text/plain": [
       "<Figure size 576x576 with 1 Axes>"
      ]
     },
     "metadata": {
      "needs_background": "light"
     },
     "output_type": "display_data"
    }
   ],
   "source": [
    "#plot the absolute error lines for the mean absolute errors and the mean square root error \n",
    "plt.figure(figsize=(8,8))\n",
    "plt.plot(np.arange(.01,1, .01), mae, 'g', label='Mean Absolute Errors')\n",
    "plt.plot(np.arange(.01,1, .01), rmse, 'r', label=' Root Mean Square Errors')\n",
    "plt.xlabel('alpha')\n",
    "plt.ylabel('Error Scores')\n",
    "plt.legend()\n",
    "plt.title(\"Ridge Scores on training data\")\n",
    "plt.show()"
   ]
  },
  {
   "cell_type": "code",
   "execution_count": 7,
   "metadata": {},
   "outputs": [],
   "source": [
    "#Run a gridsearch on the best possible model for the alpha and see what we can get. \n",
    "#create a pipeline to scale the data beforehand\n",
    "pipeline = Pipeline([\n",
    "                     ('scaler',StandardScaler()),\n",
    "                     ('model',Ridge())\n",
    "])"
   ]
  },
  {
   "cell_type": "code",
   "execution_count": 8,
   "metadata": {},
   "outputs": [],
   "source": [
    "#lets find the optimal alpha for the ridge model. We will test values of alpha from .01 to 1 in .01 increments. \n",
    "#Moreover, we will use 5 fold cross validation and select the value of alpha that minimizes the MAE \n",
    "grid_search = GridSearchCV(pipeline,\n",
    "                      {'model__alpha':np.arange(.01,1, .01)},\n",
    "                      cv = 5, scoring=\"neg_mean_absolute_error\"\n",
    "                      )"
   ]
  },
  {
   "cell_type": "code",
   "execution_count": 9,
   "metadata": {},
   "outputs": [
    {
     "name": "stdout",
     "output_type": "stream",
     "text": [
      "The best alpha value on training data is  {'model__alpha': 0.99}\n"
     ]
    }
   ],
   "source": [
    "#train the grid search \n",
    "grid_search.fit(X_train, y_train)\n",
    "\n",
    "#Find the best alpha value \n",
    "print(\"The best alpha value on training data is \", grid_search.best_params_)"
   ]
  },
  {
   "cell_type": "code",
   "execution_count": 10,
   "metadata": {},
   "outputs": [
    {
     "data": {
      "text/plain": [
       "15.528398423529666"
      ]
     },
     "execution_count": 10,
     "metadata": {},
     "output_type": "execute_result"
    }
   ],
   "source": [
    "#The optimal value of alpha on the training data is 0.99 and the cross validated score is the following\n",
    "#Check this value of alpha on the cross validated data \n",
    "rr=Ridge(alpha=grid_search.best_params_['model__alpha'], normalize=True)\n",
    "np.mean(np.abs(cross_val_score(rr, X_train, y_train, scoring='neg_mean_absolute_error')))"
   ]
  },
  {
   "cell_type": "markdown",
   "metadata": {},
   "source": [
    "### Check the data on the validation set"
   ]
  },
  {
   "cell_type": "code",
   "execution_count": 11,
   "metadata": {},
   "outputs": [],
   "source": [
    "#Ridge Regression: neg_mean_absolute_errors\n",
    "alphas=np.arange(.01,1, .01)\n",
    "mean_absolute_scores_valid=[]\n",
    "\n",
    "for alpha in alphas: \n",
    "    rr=Ridge(alpha=alpha, normalize=True)\n",
    "    rr.fit(X_train, y_train)\n",
    "    y_rr=rr.predict(X_val)\n",
    "    score=mean_absolute_error(y_val, y_rr)\n",
    "    mean_absolute_scores_valid.append(score)\n",
    "mae_val=list(np.abs(np.array(mean_absolute_scores_valid))) "
   ]
  },
  {
   "cell_type": "code",
   "execution_count": 12,
   "metadata": {},
   "outputs": [
    {
     "data": {
      "text/html": [
       "<div>\n",
       "<style scoped>\n",
       "    .dataframe tbody tr th:only-of-type {\n",
       "        vertical-align: middle;\n",
       "    }\n",
       "\n",
       "    .dataframe tbody tr th {\n",
       "        vertical-align: top;\n",
       "    }\n",
       "\n",
       "    .dataframe thead th {\n",
       "        text-align: right;\n",
       "    }\n",
       "</style>\n",
       "<table border=\"1\" class=\"dataframe\">\n",
       "  <thead>\n",
       "    <tr style=\"text-align: right;\">\n",
       "      <th></th>\n",
       "      <th>alphas</th>\n",
       "      <th>MAE</th>\n",
       "    </tr>\n",
       "  </thead>\n",
       "  <tbody>\n",
       "    <tr>\n",
       "      <th>10</th>\n",
       "      <td>0.11</td>\n",
       "      <td>15.400878</td>\n",
       "    </tr>\n",
       "  </tbody>\n",
       "</table>\n",
       "</div>"
      ],
      "text/plain": [
       "    alphas        MAE\n",
       "10    0.11  15.400878"
      ]
     },
     "execution_count": 12,
     "metadata": {},
     "output_type": "execute_result"
    }
   ],
   "source": [
    "ridge_dict={'alphas': alphas, 'MAE': mae_val}\n",
    "ridge_df=pd.DataFrame(ridge_dict)\n",
    "ridge_df.loc[ridge_df.MAE==min(ridge_df.MAE)]\n",
    "#It looks like the optimal value of alpha that minimizes MAE is going to be 0.11. "
   ]
  },
  {
   "cell_type": "code",
   "execution_count": 13,
   "metadata": {},
   "outputs": [
    {
     "data": {
      "text/plain": [
       "15.400877837313132"
      ]
     },
     "execution_count": 13,
     "metadata": {},
     "output_type": "execute_result"
    }
   ],
   "source": [
    "#Test the model on validation data \n",
    "ridge=Ridge(alpha=0.11, normalize=True)\n",
    "ridge.fit(X_train, y_train)\n",
    "predict=ridge.predict(X_val)\n",
    "mean_absolute_error(y_val, predict)"
   ]
  },
  {
   "cell_type": "code",
   "execution_count": 14,
   "metadata": {},
   "outputs": [
    {
     "data": {
      "image/png": "[encoded data removed]",
      "text/plain": [
       "<Figure size 576x576 with 1 Axes>"
      ]
     },
     "metadata": {
      "needs_background": "light"
     },
     "output_type": "display_data"
    }
   ],
   "source": [
    "#plot the absolute error lines for the mean absolute errors and the mean square root error \n",
    "plt.figure(figsize=(8,8))\n",
    "plt.plot(np.arange(.01,1, .01), mae_val, 'g', label='MAE-Validation Data')\n",
    "plt.plot(np.arange(.01,1, .01), mae, 'r', label=' MAE-Training Data')\n",
    "plt.axvline(x=0.11, linestyle='--', label=' Optimal Value of Alpha for Validation Data')\n",
    "plt.xlabel('alpha')\n",
    "plt.ylabel('Mean Absolute Error')\n",
    "plt.legend()\n",
    "plt.title(\"Ridge Scores on training and validation data\")\n",
    "plt.show()"
   ]
  },
  {
   "cell_type": "code",
   "execution_count": 15,
   "metadata": {},
   "outputs": [
    {
     "data": {
      "text/plain": [
       "array([ 2.87066428e-01, -3.91373236e-03, -6.77044497e-01,  1.98713701e+00,\n",
       "       -1.81298969e+00, -8.29392086e-01,  3.06808335e-01,  1.14308641e+00,\n",
       "        0.00000000e+00,  8.58225340e-01, -1.48984196e+00,  1.14214810e+00,\n",
       "        4.28022448e-04, -6.48505228e-05,  1.50805064e+00,  5.98355813e+00,\n",
       "       -1.10907301e-01, -5.05953963e-02,  3.04749493e+00,  1.00792046e+00,\n",
       "       -4.62732645e+00,  2.11268690e+00, -7.03992771e-02, -5.81548904e+00,\n",
       "        1.10597741e+01, -1.10159065e+01, -6.75574973e+00, -2.62657668e+00,\n",
       "        1.37931843e+00, -2.10485418e-01,  2.25952377e+00, -2.61114475e+00,\n",
       "        1.26749495e+01,  6.90123084e+00,  1.13767564e+00,  1.18819623e+00,\n",
       "        3.56199015e-01, -6.36899574e+00, -3.59653557e+00,  5.98995479e-01,\n",
       "        2.30206054e+00,  1.26916118e+00, -4.65611393e+00, -9.12954205e-02,\n",
       "       -7.72793062e+00,  0.00000000e+00, -7.62085878e+00, -3.16196123e+00,\n",
       "        9.11584222e+00, -7.77452586e+00, -4.79029804e+00,  9.70995653e+00,\n",
       "        4.43911451e-01,  0.00000000e+00,  1.91216246e+00,  4.41908351e+00,\n",
       "       -3.98803568e+00, -2.52182672e-01,  8.05299354e-01, -9.61279861e-01,\n",
       "        3.05429779e+00,  4.35479332e+00,  4.85778845e-02, -1.41681590e+00,\n",
       "       -2.95746295e+00,  1.50805064e+00, -4.40626432e-01, -9.15663617e-01,\n",
       "       -2.53427733e+00, -3.19072249e-03,  4.02327847e+00, -2.08857767e+00,\n",
       "       -6.58678758e+00,  7.05595406e+00,  8.61113746e+00,  2.71812005e-01,\n",
       "        3.38524873e+00, -6.17855091e+00, -1.49778763e-01,  1.34203283e+00,\n",
       "        1.73163684e-01,  1.58083033e+01,  1.89478458e-01, -1.44240024e+01,\n",
       "       -1.65884999e+01, -2.03732993e+01,  5.19521890e+00, -2.02573443e+01,\n",
       "       -2.00302417e+01, -2.23759732e+00,  1.83990966e+00, -3.18144854e-01,\n",
       "       -2.46724537e+01, -7.96740945e+00,  6.20373537e-01, -1.17779386e+01,\n",
       "       -3.08704890e+01, -3.31282517e+00, -5.19042078e+00])"
      ]
     },
     "execution_count": 15,
     "metadata": {},
     "output_type": "execute_result"
    }
   ],
   "source": [
    "#Taking a look at the coefficients for the ridge model \n",
    "ridge.coef_"
   ]
  },
  {
   "cell_type": "markdown",
   "metadata": {},
   "source": [
    "#### What happens on the selected features from Lasso? These features were selected in the feature_selection notebook "
   ]
  },
  {
   "cell_type": "code",
   "execution_count": 16,
   "metadata": {},
   "outputs": [],
   "source": [
    "selected_feats=['python',\n",
    " 'Type of ownership_Private Practice / Firm',\n",
    " 'Sector_Arts, Entertainment & Recreation',\n",
    " 'Sector_Biotech & Pharmaceuticals',\n",
    " 'Sector_Health Care',\n",
    " 'Sector_Telecommunications',\n",
    " 'Revenue_$1 to $5 million (USD)',\n",
    " 'Revenue_$25 to $50 million (USD)',\n",
    " 'Revenue_$5 to $10 billion (USD)',\n",
    " 'simplified_title_data warehouse enginner',\n",
    " 'seniority_senior',\n",
    " 'state_ CA',\n",
    " 'state_ CO',\n",
    " 'state_ IL']\n",
    "X_select=df_dummies[selected_feats]\n",
    "X_select_train, X_select_val, y_train, y_test=train_test_split(X_select, y, test_size=0.3, random_state=0)"
   ]
  },
  {
   "cell_type": "code",
   "execution_count": 17,
   "metadata": {},
   "outputs": [],
   "source": [
    "#Ridge Regression: neg_mean_absolute_errors on the select features data \n",
    "alphas=np.arange(.01,1, .01)\n",
    "mean_absolute_scores=[]\n",
    "\n",
    "for alpha in alphas: \n",
    "    rid=Ridge(alpha=alpha, normalize=True)\n",
    "    score=np.mean(cross_val_score(rid,X_select_train,y_train,scoring = 'neg_mean_absolute_error', cv= 5))\n",
    "    mean_absolute_scores.append(score)\n",
    "mae_select=list(np.abs(np.array(mean_absolute_scores)))   "
   ]
  },
  {
   "cell_type": "code",
   "execution_count": 18,
   "metadata": {
    "scrolled": false
   },
   "outputs": [
    {
     "data": {
      "image/png": "[encoded data removed]",
      "text/plain": [
       "<Figure size 576x576 with 1 Axes>"
      ]
     },
     "metadata": {
      "needs_background": "light"
     },
     "output_type": "display_data"
    }
   ],
   "source": [
    "#plot the absolute error lines for the mean absolute errors with model on all features and select features\n",
    "plt.figure(figsize=(8,8))\n",
    "plt.plot(np.arange(.01,1, .01), mae, 'g', label='Mean Absolute Errors-All Features')\n",
    "plt.plot(np.arange(.01,1, .01), mae_select, 'r', label=' Mean Absolute Error-Select Features')\n",
    "plt.xlabel('alpha')\n",
    "plt.ylabel('Error Scores')\n",
    "plt.legend()\n",
    "plt.title(\"Ridge Scores Feature Analysis on Training Data\")\n",
    "plt.show()\n",
    "#It looks like when we include more features we get a little better of a testing score on the MAE than \n",
    "#with the select features for lasso."
   ]
  },
  {
   "cell_type": "code",
   "execution_count": 19,
   "metadata": {},
   "outputs": [],
   "source": [
    "#Ridge Regression: neg_mean_absolute_errors\n",
    "alphas=np.arange(.01,1, .01)\n",
    "mean_absolute_scores_valid_feats=[]\n",
    "\n",
    "for alpha in alphas: \n",
    "    rr=Ridge(alpha=alpha, normalize=True)\n",
    "    rr.fit(X_select_train, y_train)\n",
    "    y_rr=rr.predict(X_select_val)\n",
    "    score=mean_absolute_error(y_test, y_rr)\n",
    "    mean_absolute_scores_valid_feats.append(score)\n",
    "mae_val_feats=list(np.abs(np.array(mean_absolute_scores_valid_feats))) "
   ]
  },
  {
   "cell_type": "code",
   "execution_count": 20,
   "metadata": {},
   "outputs": [
    {
     "data": {
      "text/html": [
       "<div>\n",
       "<style scoped>\n",
       "    .dataframe tbody tr th:only-of-type {\n",
       "        vertical-align: middle;\n",
       "    }\n",
       "\n",
       "    .dataframe tbody tr th {\n",
       "        vertical-align: top;\n",
       "    }\n",
       "\n",
       "    .dataframe thead th {\n",
       "        text-align: right;\n",
       "    }\n",
       "</style>\n",
       "<table border=\"1\" class=\"dataframe\">\n",
       "  <thead>\n",
       "    <tr style=\"text-align: right;\">\n",
       "      <th></th>\n",
       "      <th>alphas</th>\n",
       "      <th>MAE</th>\n",
       "    </tr>\n",
       "  </thead>\n",
       "  <tbody>\n",
       "    <tr>\n",
       "      <th>24</th>\n",
       "      <td>0.25</td>\n",
       "      <td>16.383316</td>\n",
       "    </tr>\n",
       "  </tbody>\n",
       "</table>\n",
       "</div>"
      ],
      "text/plain": [
       "    alphas        MAE\n",
       "24    0.25  16.383316"
      ]
     },
     "execution_count": 20,
     "metadata": {},
     "output_type": "execute_result"
    }
   ],
   "source": [
    "ridge_dict={'alphas': alphas, 'MAE': mae_val_feats}\n",
    "ridge_df=pd.DataFrame(ridge_dict)\n",
    "ridge_df.loc[ridge_df.MAE==min(ridge_df.MAE)] "
   ]
  },
  {
   "cell_type": "code",
   "execution_count": 21,
   "metadata": {},
   "outputs": [
    {
     "data": {
      "image/png": "[encoded data removed]",
      "text/plain": [
       "<Figure size 576x576 with 1 Axes>"
      ]
     },
     "metadata": {
      "needs_background": "light"
     },
     "output_type": "display_data"
    }
   ],
   "source": [
    "#plot the absolute error lines for the mean absolute errors and the mean square root error \n",
    "plt.figure(figsize=(8,8))\n",
    "plt.plot(np.arange(.01,1, .01), mae_val_feats, 'g', label='MAE-Validation Data')\n",
    "plt.plot(np.arange(.01,1, .01), mae_select, 'r', label=' MAE-Training Data')\n",
    "plt.axvline(x=0.25, linestyle='--', label=' Optimal Value of Alpha')\n",
    "plt.xlabel('alpha')\n",
    "plt.ylabel('Mean Absolute Error')\n",
    "plt.legend()\n",
    "plt.title(\"Ridge Scores on training and validation data for select features\")\n",
    "plt.show()"
   ]
  },
  {
   "cell_type": "markdown",
   "metadata": {},
   "source": [
    "It looks like the Ridge model is more efficient and accurate when there are multiple features considered in the model. The ridge is handling the collinearity better and resulting in a more optimal performance than the Lasso counterpart even with the Lasso having a slighlt better score. This is good since we can handle multiple features that were important based on the EDA. Moreover, we can include even more features into our model. "
   ]
  }
 ],
 "metadata": {
  "kernelspec": {
   "display_name": "Python 3",
   "language": "python",
   "name": "python3"
  },
  "language_info": {
   "codemirror_mode": {
    "name": "ipython",
    "version": 3
   },
   "file_extension": ".py",
   "mimetype": "text/x-python",
   "name": "python",
   "nbconvert_exporter": "python",
   "pygments_lexer": "ipython3",
   "version": "3.9.1"
  }
 },
 "nbformat": 4,
 "nbformat_minor": 4
}
